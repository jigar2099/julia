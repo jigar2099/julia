{
 "cells": [
  {
   "cell_type": "code",
   "execution_count": 40,
   "id": "b8f6f780",
   "metadata": {
    "ExecuteTime": {
     "end_time": "2022-08-31T22:23:00.651000+01:00",
     "start_time": "2022-08-31T21:23:00.643Z"
    }
   },
   "outputs": [
    {
     "data": {
      "text/plain": [
       "calculator (generic function with 1 method)"
      ]
     },
     "execution_count": 40,
     "metadata": {},
     "output_type": "execute_result"
    }
   ],
   "source": [
    "function calculator()\n",
    "    println(\"------- Welcome to the Calculator app written in Julia -------\")\n",
    "    # Print the Calculator app Menu|\n",
    "    println(\"==== Menu ====\")\n",
    "    println(\"1. Addition ➕\")\n",
    "    println(\"2. Subtraction ➖\")\n",
    "    println(\"3  Multiplication X\")\n",
    "    println(\"4. Division ➗\")\n",
    "    println(\"5. Factorial !\")\n",
    "    println(\"6. Power operation ^\")\n",
    "    println(\"7. Find logarithm\")\n",
    "    println(\"8. Exit the Calculator app ↗️\")\n",
    "    \n",
    "    while true\n",
    "        println(\"-------------------------------\")\n",
    "        println(\"-------------------------------\")\n",
    "        println(\"-------------------------------\")\n",
    "        operation = parse(Float64, readline())\n",
    "        # Convert the string value input to a float\n",
    "        function facto(n::Int64)\n",
    "            f = 1\n",
    "            if n < 0\n",
    "                print(\"Factorial does not exist for negative numbers\")\n",
    "            end\n",
    "             if n == 0\n",
    "                print(\"The factorial of 0 is 1\")\n",
    "             end\n",
    "             if n>0\n",
    "                for i in 1:n\n",
    "                    f = f*i\n",
    "                end\n",
    "                println(\"The factorial is: \",f)\n",
    "            end\n",
    "        end\n",
    "        \n",
    "        # Depending on the user's choice, do the corresponding operation\n",
    "        \n",
    "        if operation == 1\n",
    "            print(\"Enter the first number: \")\n",
    "            num1 = parse(Float64, readline())\n",
    "            print(\"Enter the second number: \")\n",
    "            num2 = parse(Float64, readline())\n",
    "            println(\"Output: $(num1 + num2)\")\n",
    "        elseif operation == 2\n",
    "            print(\"Enter the first number: \")\n",
    "            num1 = parse(Float64, readline())\n",
    "            print(\"Enter the second number: \")\n",
    "            num2 = parse(Float64, readline())\n",
    "            println(\"Output: $(num1 - num2)\")\n",
    "        elseif operation == 3\n",
    "            print(\"Enter the first number: \")\n",
    "            num1 = parse(Float64, readline())\n",
    "            print(\"Enter the second number: \")\n",
    "            num2 = parse(Float64, readline())\n",
    "            println(\"Output: $(num1 * num2)\")\n",
    "        elseif operation == 4\n",
    "            print(\"Enter the first number: \")\n",
    "            num1 = parse(Float64, readline())\n",
    "            print(\"Enter the second number: \")\n",
    "            num2 = parse(Float64, readline())\n",
    "            println(\"Output: $(num1 / num2)\")\n",
    "        elseif operation == 5\n",
    "            print(\"Enter the number: \")\n",
    "            num1 = parse(Int64, readline())\n",
    "            num2 = facto(num1)\n",
    "            println(\"Output: $(num2)\")\n",
    "        elseif operation == 6\n",
    "            print(\"Enter the base number: \")\n",
    "            num1 = parse(Float64, readline())\n",
    "            print(\"Enter the power of base: \")\n",
    "            num2 = parse(Float64, readline())\n",
    "            num3 = num1^(num2)\n",
    "            println(\"Output: $(num3)\")\n",
    "        elseif operation == 7\n",
    "            print(\"Enter the number: \")\n",
    "            num1 = parse(Float64, readline())\n",
    "            print(\"Enter the base: \")\n",
    "            num2 = parse(Float64, readline())\n",
    "            num3 = log(num2,num1)\n",
    "            println(\"Output: $(num3)\")\n",
    "        elseif operation == 8\n",
    "            println(\"Exiting calculator\")\n",
    "            break # Stop the while loop if the user decides to exit\n",
    "        else\n",
    "            # If the user enters another number, then ask to try again\n",
    "            println(\"Invalid input, please try again.\")\n",
    "        end \n",
    "\n",
    "    end\n",
    "end"
   ]
  },
  {
   "cell_type": "code",
   "execution_count": 41,
   "id": "de899386",
   "metadata": {
    "ExecuteTime": {
     "end_time": "2022-08-31T22:23:25.540000+01:00",
     "start_time": "2022-08-31T21:23:03.660Z"
    }
   },
   "outputs": [
    {
     "name": "stdout",
     "output_type": "stream",
     "text": [
      "------- Welcome to the Calculator app written in Julia -------\n",
      "==== Menu ====\n",
      "1. Addition ➕\n",
      "2. Subtraction ➖\n",
      "3  Multiplication X\n",
      "4. Division ➗\n",
      "5. Factorial !\n",
      "6. Power operation ^\n",
      "7. Power operation log\n",
      "8. Exit the Calculator app ↗️\n",
      "-------------------------------\n",
      "-------------------------------\n",
      "-------------------------------\n",
      "stdin> 7\n",
      "Enter the number: stdin> 2\n",
      "Enter the base: stdin> 8\n",
      "Output: 0.33333333333333337\n",
      "-------------------------------\n",
      "-------------------------------\n",
      "-------------------------------\n",
      "stdin> 8\n",
      "Exiting calculator\n"
     ]
    }
   ],
   "source": [
    "calculator()"
   ]
  },
  {
   "cell_type": "code",
   "execution_count": 27,
   "id": "9876ace9",
   "metadata": {
    "ExecuteTime": {
     "end_time": "2022-08-31T22:09:27.597000+01:00",
     "start_time": "2022-08-31T21:09:27.596Z"
    }
   },
   "outputs": [
    {
     "data": {
      "text/plain": [
       "3628800"
      ]
     },
     "execution_count": 27,
     "metadata": {},
     "output_type": "execute_result"
    }
   ],
   "source": [
    "factorial(10)"
   ]
  },
  {
   "cell_type": "code",
   "execution_count": 33,
   "id": "e81a6397",
   "metadata": {
    "ExecuteTime": {
     "end_time": "2022-08-31T22:18:10.432000+01:00",
     "start_time": "2022-08-31T21:18:10.428Z"
    }
   },
   "outputs": [
    {
     "data": {
      "text/plain": [
       "8"
      ]
     },
     "execution_count": 33,
     "metadata": {},
     "output_type": "execute_result"
    }
   ],
   "source": [
    "2^3"
   ]
  },
  {
   "cell_type": "code",
   "execution_count": null,
   "id": "0fe95529",
   "metadata": {},
   "outputs": [],
   "source": []
  }
 ],
 "metadata": {
  "kernelspec": {
   "display_name": "Julia 1.7.3",
   "language": "julia",
   "name": "julia-1.7"
  },
  "language_info": {
   "file_extension": ".jl",
   "mimetype": "application/julia",
   "name": "julia",
   "version": "1.7.3"
  }
 },
 "nbformat": 4,
 "nbformat_minor": 5
}
